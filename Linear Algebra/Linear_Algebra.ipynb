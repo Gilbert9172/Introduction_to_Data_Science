{
  "nbformat": 4,
  "nbformat_minor": 0,
  "metadata": {
    "colab": {
      "name": "Linear Algebra.ipynb",
      "provenance": [],
      "collapsed_sections": [
        "IH4crW4m_c25"
      ],
      "authorship_tag": "ABX9TyP4u7d+0MGmY9gAIEsNtP/a",
      "include_colab_link": true
    },
    "kernelspec": {
      "name": "python3",
      "display_name": "Python 3"
    },
    "language_info": {
      "name": "python"
    }
  },
  "cells": [
    {
      "cell_type": "markdown",
      "metadata": {
        "id": "view-in-github",
        "colab_type": "text"
      },
      "source": [
        "<a href=\"https://colab.research.google.com/github/Gilbert9172/Introduction_to_Data_Science/blob/main/Linear_Algebra.ipynb\" target=\"_parent\"><img src=\"https://colab.research.google.com/assets/colab-badge.svg\" alt=\"Open In Colab\"/></a>"
      ]
    },
    {
      "cell_type": "markdown",
      "metadata": {
        "id": "JCnyv1o9LgmK"
      },
      "source": [
        "# ***dot/matmul***\n",
        "\n",
        "```\n",
        "numpy.dot\n",
        "\n",
        "numpy.matmul\n",
        "```\n",
        "\n"
      ]
    },
    {
      "cell_type": "markdown",
      "metadata": {
        "id": "JUJxSMI-7HwY"
      },
      "source": [
        "# ***Norm***\n",
        "```\n",
        "import linalg\n",
        "\n",
        "# Norm1\n",
        "linalg.norm(n, ord = 1, axis = 0) \n",
        "\n",
        "# Norm2\n",
        "linalg.norm(n, ord = 2, axis = 0) \n",
        "```\n",
        "\n",
        "\n",
        "\n"
      ]
    },
    {
      "cell_type": "markdown",
      "metadata": {
        "id": "N5kOTxoE9p_5"
      },
      "source": [
        "# ***Error***\n",
        "\n",
        "\n",
        "```\n",
        "from sklearn.metrics import mean_squared_error\n",
        "\n",
        "from sklearn.metrics import mean_absolute_error\n",
        "```"
      ]
    },
    {
      "cell_type": "markdown",
      "metadata": {
        "id": "ymATFmAA-oga"
      },
      "source": [
        "# ***Eigenvalue / Eigenvector***\n",
        "\n",
        "\n",
        "value = np.linalg.eig(X)[0]\n",
        "\n",
        "vector  = np.linalg.eig(X)[1]"
      ]
    },
    {
      "cell_type": "markdown",
      "metadata": {
        "id": "IH4crW4m_c25"
      },
      "source": [
        "# PCA"
      ]
    },
    {
      "cell_type": "markdown",
      "metadata": {
        "id": "RroDZLgz1_9k"
      },
      "source": [
        "**1. 공분산 행렬의 고유벡터값 : pca.components_**\n",
        "\n",
        "\n",
        "```\n",
        "print(\"\\n Eigenvectors: \\n\", pca.components_)\n",
        "```\n"
      ]
    },
    {
      "cell_type": "markdown",
      "metadata": {
        "id": "Vr1k90ji1Yuu"
      },
      "source": [
        "**2. 공분산 행렬의 고유값(=분산) : pca.explained_variance_**\n",
        "\n",
        "\n",
        "\n",
        "```\n",
        "print(\"\\n Eigenvalues: \\n\",pca.explained_variance_)\n",
        "```\n",
        "\n",
        "\n"
      ]
    },
    {
      "cell_type": "markdown",
      "metadata": {
        "id": "aLNQsPWP8L0C"
      },
      "source": [
        "**3. 새로운 주성분 찾고, 새로운 주성분으로 데이터 변환**\n",
        "\n",
        "\n",
        "\n",
        "```\n",
        "pca = PCA(n_components) \n",
        "pca.fit(A)\n",
        "B = pca.transform(A)\n",
        "```\n",
        "\n"
      ]
    },
    {
      "cell_type": "markdown",
      "metadata": {
        "id": "TGmbVnWK3zYS"
      },
      "source": [
        "**4. 적절한 차원 수 선택하기**\n",
        "\n",
        "'Explained Variance Ratio'를 이용해 축소할 차원의 수를 선택할 수 있다.\n",
        "\n",
        "ex) 누적된 분산의 비율이 90%가 되는 주성분 축, 차원을 선택하는 방법\n",
        "\n",
        " * 차원의 수 선택\n",
        "```\n",
        "N = np.cumsum(pca.explained_variance_ratio_)\n",
        "D = np.argmax(N >= 0.90) + 1\n",
        "```\n",
        "\n",
        "\n",
        " * 새로운 주성분으로 데이터 변환\n",
        "```\n",
        "Z = PCA(n_components) \n",
        "Z_proj = pca.transform(Z)\n",
        "```\n",
        "\n",
        "\n"
      ]
    },
    {
      "cell_type": "markdown",
      "metadata": {
        "id": "vJomaagb0_yo"
      },
      "source": [
        "**5. 각각의 주성분 벡터가 이루는 축에 투영한 결과의 분산의 비율 : explained_variance_ratio_**\n",
        "\n",
        "Explained variance ratio : [0.7 0.2] 의미는?\n",
        "\n",
        "원 데이터셋 분산의 70%가 첫 번째 주성분 축에 놓여 있고, 20%가 두번째 주성분 축에 놓여있다.\n",
        "\n",
        "다시 말해, 첫 번째 주성분과 두 번째 주성분을 이용해 \n",
        "3차원의 데이터셋을 2차원으로 투영할 경우,\n",
        "\n",
        "원래 데이터셋의 분산에서 10%를 잃게 된다.\n",
        "\n",
        "\n",
        "```\n",
        "print('\\n Explained variance ratio : \\n', pca.explained_variance_ratio_)\n",
        "```\n",
        "\n"
      ]
    }
  ]
}
