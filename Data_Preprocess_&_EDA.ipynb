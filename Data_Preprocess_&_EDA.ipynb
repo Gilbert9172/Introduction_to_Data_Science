{
  "nbformat": 4,
  "nbformat_minor": 0,
  "metadata": {
    "colab": {
      "name": "Data Preprocess & EDA.ipynb",
      "provenance": [],
      "collapsed_sections": [
        "IDUfSGG8yoIa",
        "kpI2vU7DyzAV",
        "UZBFdQXmy494",
        "y7DdqYjIy8nQ",
        "KgYX6yMvy_U8",
        "MSsZlLkLzFsI"
      ],
      "authorship_tag": "ABX9TyNHRj69f3WQ3GeTY7UEaTSE",
      "include_colab_link": true
    },
    "kernelspec": {
      "name": "python3",
      "display_name": "Python 3"
    },
    "language_info": {
      "name": "python"
    }
  },
  "cells": [
    {
      "cell_type": "markdown",
      "metadata": {
        "id": "view-in-github",
        "colab_type": "text"
      },
      "source": [
        "<a href=\"https://colab.research.google.com/github/Gilbert9172/Introduction_to_Data_Science/blob/main/Data_Preprocess_%26_EDA.ipynb\" target=\"_parent\"><img src=\"https://colab.research.google.com/assets/colab-badge.svg\" alt=\"Open In Colab\"/></a>"
      ]
    },
    {
      "cell_type": "markdown",
      "metadata": {
        "id": "NQ6cc-dCVXwH"
      },
      "source": [
        "# **Data Preprocess & EDA**"
      ]
    },
    {
      "cell_type": "markdown",
      "metadata": {
        "id": "IDUfSGG8yoIa"
      },
      "source": [
        "# Data Load"
      ]
    },
    {
      "cell_type": "markdown",
      "metadata": {
        "id": "jT7jOngLVxIq"
      },
      "source": [
        "*구글드라이브에서 파일 불러오기*\n",
        "```\n",
        "from google.colab import drive\n",
        "drive.mount('/content/gdrive')\n",
        "```\n",
        "\n",
        "*데이터 셋 불러오기*\n",
        "```\n",
        "import pandas as pd\n",
        "\n",
        "pd,read_csv('저장경로', encoding = 'euc-kr'/'CP949'/'UTF-8')\n",
        "\n",
        "pd.read_csv('url')\n",
        "\n",
        "pd.read_excel(‘저장경로’, sheet = ‘name’)\n",
        "```\n",
        "```\n",
        "import seaborn as sns\n",
        "\n",
        "sns.load_dataset('data_name')\n",
        "```\n",
        "*데이터 저장하기* \n",
        "```\n",
        "df2.to_csv(\"file_name\")\n",
        "```\n",
        "\n",
        "\n",
        "\n",
        "\n",
        "\n",
        "\n",
        "\n"
      ]
    },
    {
      "cell_type": "markdown",
      "metadata": {
        "id": "kpI2vU7DyzAV"
      },
      "source": [
        "# DataFrame"
      ]
    },
    {
      "cell_type": "markdown",
      "metadata": {
        "id": "rIej5oqYZjPh"
      },
      "source": [
        "*생성하기*\n",
        "```\n",
        "df = pd.DataFrame({‘col_1’:[‘a,‘b, 'c]})\n",
        "```\n",
        "*데이터 역순으로 읽기 / 만들기*\n",
        "```\n",
        "df = df[-1:] \n",
        "df[::-1] - raw\n",
        "df[:,::-1] - column\n",
        "```\n"
      ]
    },
    {
      "cell_type": "markdown",
      "metadata": {
        "id": "vrMcP6G5XS-6"
      },
      "source": [
        "*데이터 확인 하기 - Dimension*\n",
        "```\n",
        "df.shape()\n",
        "\n",
        "df.info()\n",
        "\n",
        "df.dtyes()\n",
        "```\n",
        "*결측값 확인 & 0으로 채우기*\n",
        "```\n",
        "df.isnull().sum()\n",
        "\n",
        "df.fillna(0, inplace = True)\n",
        "```\n",
        "*NaN 값으로 채우기*\n",
        "```\n",
        "df.at[행번호, ['col_1']] = np.nan  \n",
        "df.loc[행번호, ['col_1']] = np.nan\n",
        "df.iloc[행,열] = np.nan\n",
        "df = df.replace(0, np.nan)\n",
        "```\n",
        "*역순으로 읽기*\n",
        "```\n",
        "df[::-1] - raw\n",
        "df[:,::-1] - column\n",
        "```\n",
        "\n",
        "\n"
      ]
    },
    {
      "cell_type": "markdown",
      "metadata": {
        "id": "UZBFdQXmy494"
      },
      "source": [
        "# Shape"
      ]
    },
    {
      "cell_type": "markdown",
      "metadata": {
        "id": "9EHQFJ6oclF-"
      },
      "source": [
        "*replace 함수로 형 변환*\n",
        "```\n",
        "# object => int\n",
        "def toInt(x):\n",
        "    return int(x.replace(',',''))\n",
        "\n",
        "# object => float\n",
        "def tofloat(x):\n",
        "  return float(x.replace(',',''))\n",
        "\n",
        "df['col1'].apply(toInt)\n",
        "df['col1'].apply(tofloat)\n",
        "```\n",
        "*to_numeric 함수로 형 변환*\n",
        "```\n",
        "df.apply(pd.to_numeric, errors = 'coerce/ignore/raise')\n",
        "pd.to_numeric(df.col, errors = 'coerce/ignore/raise')\t\n",
        "\n",
        "-errors = 'coerce' ; NaN값으로 변경되어 출력\n",
        "-errors = 'ignore' ; 변경 할 수 없는 값 무시\n",
        "-errors = 'raise'  ; 에러 발생 시키기\n",
        "```\n",
        "*.astype 함수로 형 변환*\n",
        "```\n",
        "df.astype(int)\n",
        "\n",
        "df.astype(str).astype(int)        * 두번도 가능.\n",
        "\n",
        "df.astype({'col_name':'int64'})\n",
        "```\n"
      ]
    },
    {
      "cell_type": "markdown",
      "metadata": {
        "id": "y7DdqYjIy8nQ"
      },
      "source": [
        "# Columns"
      ]
    },
    {
      "cell_type": "markdown",
      "metadata": {
        "id": "U2yxQ-tSl4jK"
      },
      "source": [
        "*Columns select*\n",
        "```\n",
        "# 특정 컬럼 가져오기 \n",
        "df = df[['col_name','col_name2']]\n",
        "\n",
        "# 컬럼 내에서 원하는 값 찾기\n",
        "df[df['col_name'] == 'name']\n",
        "df[df['col_name'].isin(['name'])]\n",
        "\n",
        "# object형태 컬럼만 선택\n",
        "df.select_dtypes(object).columns\n",
        "```\n",
        "*Cloumn naming*\n",
        "```\n",
        "# 컬럼 이름 바꾸기 \n",
        "new_name = \"x\" \n",
        "df = df.rename(columns = {'col_name' : new_name})\n",
        "-(set object is not callable rename) 에러 나올 때 사용했음\n",
        "\n",
        "# 컬럼 이름 덮어쓰기     \n",
        "df.rename({'col_name','x'}, axis = 1)\n",
        "```\n",
        "*Cloumn drop*\n",
        "```\n",
        "df.drop(['column_name_A', 'column_name_B'], axis=1, inplace=True)\n",
        "```\n",
        "*Column + func*\n",
        "```\n",
        "# name 컬럼에 x열의 값을 넣어서 새로운 컬럼으로 저장\n",
        "df['name'] = df['x'].apply(function)\n",
        "```\n",
        "*Column split*\n",
        "```\n",
        "# string을 여러 컬럼으로 분리 - header 분리\n",
        "df[['first', 'middle' , 'last']] = df.name.str.split(' ',expand = Ture)\n",
        "\n",
        "# 하나의 열에 있는 값을 분리 \n",
        "df['new_col'] = df['col_name'].str.slice ( stop = 2 )\n",
        "```\n",
        "\n",
        "\n",
        "\n",
        "\n",
        "\n",
        "\n"
      ]
    },
    {
      "cell_type": "markdown",
      "metadata": {
        "id": "KgYX6yMvy_U8"
      },
      "source": [
        "# Index"
      ]
    },
    {
      "cell_type": "markdown",
      "metadata": {
        "id": "PBUOqtHmnp2J"
      },
      "source": [
        "*Index reset*\n",
        "```\n",
        "df.reset_index(drop = True, inplace=True)\n",
        "```\n",
        "*Index setting*\n",
        "```\n",
        "df.set_index('col_name', inplace=True)\n",
        "```\n",
        "*Index naming*\n",
        "```\n",
        "df.rename(index = {0 : \"gilbert\"}, inplace = True)\n",
        "```\n",
        "*Index order*\n",
        "```\n",
        "df.reindex([0,3,2,1])\n",
        "```\n",
        "*index hiding*\n",
        "```\n",
        "df.style.hide_index()\n",
        "```\n",
        "\n",
        "\n",
        "\n",
        "\n",
        "\n",
        "\n"
      ]
    },
    {
      "cell_type": "markdown",
      "metadata": {
        "id": "r-WnwehGpZv9"
      },
      "source": [
        "*iloc - interger position*\n",
        "```\n",
        "# 열전체 + 2행까지\n",
        "df.iloc[:2] \n",
        "\n",
        "# 1행까지 + 1열 ~ 4열 까지 \n",
        "df.iloc[:2,1:5]\n",
        "```\n",
        "\n",
        "*loc - lable*\n",
        "```\n",
        "# 열전체 + 2행까지\n",
        "df.loc[:2]\n",
        "\n",
        "# 2행까지 + A열\n",
        "df.loc[:2,['A']]\n",
        "\n",
        "# 행 전체 + A열,B열\n",
        "df.loc[:,['A','B']]\n",
        "\n",
        "# 행 전체 + A열,B열\n",
        "df.loc[:,'A':'B']\n",
        "```\n",
        "\n",
        "\n",
        "\n"
      ]
    },
    {
      "cell_type": "markdown",
      "metadata": {
        "id": "MSsZlLkLzFsI"
      },
      "source": [
        "# ETC"
      ]
    },
    {
      "cell_type": "markdown",
      "metadata": {
        "id": "8bQA1XpLtzb1"
      },
      "source": [
        "*대문자*\n",
        "```\n",
        "# applymap 요소별로 작용\n",
        "df.apply(lambda x: x.astype(str).str.upper())\n",
        "\n",
        "upper = df.applymap(lambda x: x.upper() if type(x) == str else x)\n",
        "upper.loc[:,['col_name']]\n",
        "```\n"
      ]
    }
  ]
}